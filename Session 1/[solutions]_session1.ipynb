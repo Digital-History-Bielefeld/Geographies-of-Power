{
 "cells": [
  {
   "cell_type": "markdown",
   "id": "1c8ef376-30d2-404a-bda7-41cb798a9f46",
   "metadata": {},
   "source": [
    "# Python Basics I"
   ]
  },
  {
   "cell_type": "markdown",
   "id": "e0aa30bb-1c6a-4ff0-9ac4-45a892623b83",
   "metadata": {},
   "source": [
    "The basics of Python are not difficult to understand, but they should be practiced so that their use becomes second nature.\n",
    "If you get an error message, don't worry. This is normal and happens to everyone. The error message is there to help you understand what went wrong. So read it carefully and try to understand what it is telling you.\n",
    "\n",
    "The `print()` command can be used to output things. Try printing out the sentence \"History is cool\". To do this, simply enter your code in the free field below. You can then execute the code using the run symbol in the taskbar at the top. "
   ]
  },
  {
   "cell_type": "code",
   "execution_count": 13,
   "id": "822597e1-f0d0-4bef-bca3-95f86cabb73a",
   "metadata": {},
   "outputs": [
    {
     "name": "stdout",
     "output_type": "stream",
     "text": [
      "History is cool\n"
     ]
    }
   ],
   "source": [
    "print(\"History is cool\")"
   ]
  },
  {
   "cell_type": "markdown",
   "id": "24782ccd-53f3-4a78-9d0b-0216cf6fde20",
   "metadata": {},
   "source": [
    "You should now see the sentence executed. However, you usually work with variables. These store data in themselves and serve as small boxes for them. You can store data in the box and retrieve it later or simply overwrite the data. \n",
    "\n",
    "\n",
    "This is how you save a variable:"
   ]
  },
  {
   "cell_type": "code",
   "execution_count": 14,
   "id": "dda26638-a071-4106-a4af-bd9b5c7d7cf9",
   "metadata": {},
   "outputs": [],
   "source": [
    "my_number = 5\n",
    "name = \"Sara\""
   ]
  },
  {
   "cell_type": "markdown",
   "id": "f32c8d7c-19ba-456d-9784-5895e4eaa0b7",
   "metadata": {},
   "source": [
    "Overwrite the above variables with new values. Print them!"
   ]
  },
  {
   "cell_type": "code",
   "execution_count": 15,
   "id": "d7221b54-c118-40ac-9aca-e5a432e3b8eb",
   "metadata": {},
   "outputs": [
    {
     "name": "stdout",
     "output_type": "stream",
     "text": [
      "7\n",
      "Taylor\n"
     ]
    }
   ],
   "source": [
    "my_number = 7\n",
    "name = \"Taylor\"\n",
    "print(my_number)\n",
    "print(name)"
   ]
  },
  {
   "cell_type": "markdown",
   "id": "1dafc6e6-c1ca-4259-ba0b-f38ae5182fbb",
   "metadata": {},
   "source": [
    "Now that you know the absolute basics, let's get straight to the exercises!"
   ]
  },
  {
   "cell_type": "markdown",
   "id": "7a67ec2f-0abb-40cf-b43b-a488c9ae8051",
   "metadata": {},
   "source": [
    "## Data Types"
   ]
  },
  {
   "cell_type": "markdown",
   "id": "e8c088b2-b99e-4758-80b6-053fb5a4e9e0",
   "metadata": {},
   "source": [
    "Data Types are a category of a value, every value belongs to exactly one data type\n",
    "\n",
    "**Simple data types are:**\n",
    "- ints e.g. `1`\n",
    "- floats e.g. `1.3`\n",
    "- strings e.g. `'This is a string'`\n",
    "- boolean e.g. `True` or `False`\n",
    "\n",
    " ### Operators Cheat Sheet\n",
    "\n",
    "| Operator | Operation                         | Example   | Result |\n",
    "| -------- | --------------------------------- | --------- | ------ |\n",
    "| +        | Addition                          | `2 + 2`   | `4`    |\n",
    "| -        | Substraction                      | `5 - 2`   | `3`    |\n",
    "| *        | Multiplication                    | `5 * 2`   | `10`   |\n",
    "| /        | Division                          | `14 / 4`  | `3.5`  |\n",
    "| //       | Integer division/floored quotient | `14 // 4` | `3`    |\n",
    "| %        | Modulus                           | `25 % 7`  | `4`    |\n",
    "| **       | Exponent                          | `2 ** 4`  | `16`   |\n"
   ]
  },
  {
   "cell_type": "markdown",
   "id": "a2cfd14d-6f73-49ff-82b4-04c3433c88fd",
   "metadata": {},
   "source": [
    "a) What is the result of 23.987 multiplicated by 7. Which data type is it? Think about it and then print the type of the result with the `type()` function."
   ]
  },
  {
   "cell_type": "code",
   "execution_count": 16,
   "id": "330ddea1-8f08-4b8f-ae65-037335d897e5",
   "metadata": {},
   "outputs": [
    {
     "name": "stdout",
     "output_type": "stream",
     "text": [
      "167.909\n"
     ]
    },
    {
     "data": {
      "text/plain": [
       "float"
      ]
     },
     "execution_count": 16,
     "metadata": {},
     "output_type": "execute_result"
    }
   ],
   "source": [
    "result = 23.987 * 7\n",
    "print(result)\n",
    "type(result)"
   ]
  },
  {
   "cell_type": "markdown",
   "id": "abef4126-05de-4290-a1fb-ff2d2b0be8a8",
   "metadata": {},
   "source": [
    "b) You have the following python code. What will be the output? Try to think about it before you run the code.\n"
   ]
  },
  {
   "cell_type": "code",
   "execution_count": 17,
   "id": "f374bfa0",
   "metadata": {},
   "outputs": [
    {
     "name": "stdout",
     "output_type": "stream",
     "text": [
      "pizza\n",
      "food\n"
     ]
    }
   ],
   "source": [
    "food = \"pizza\"\n",
    "print(food)\n",
    "print(\"food\")"
   ]
  },
  {
   "cell_type": "markdown",
   "id": "29b55c7c-6d50-4d55-909b-dd3acd9a09fd",
   "metadata": {},
   "source": [
    "What is the difference between `food` and `\"food\"`? Type your answer in the free field below."
   ]
  },
  {
   "cell_type": "markdown",
   "id": "f103a85e",
   "metadata": {},
   "source": []
  },
  {
   "cell_type": "markdown",
   "id": "92e04d63-d6e3-404d-a95e-a05c40fedefb",
   "metadata": {},
   "source": [
    "c) You can add strings together with using the `+` operator. Try it out and print \"Python\" and \"Python\" together."
   ]
  },
  {
   "cell_type": "code",
   "execution_count": 18,
   "id": "98e390d6-218a-48fd-8bee-9b3591db252a",
   "metadata": {},
   "outputs": [
    {
     "name": "stdout",
     "output_type": "stream",
     "text": [
      "PythonPython\n"
     ]
    }
   ],
   "source": [
    "print(\"Python\" + \"Python\")"
   ]
  },
  {
   "cell_type": "markdown",
   "id": "5c7f0514-7922-459b-9f1e-56a337a8161a",
   "metadata": {},
   "source": [
    "d) You can also multiply strings with a number. Try it out and print \"Python\" three times."
   ]
  },
  {
   "cell_type": "code",
   "execution_count": 19,
   "id": "3169fb03-aab5-40a0-95a5-573f648513bc",
   "metadata": {},
   "outputs": [
    {
     "name": "stdout",
     "output_type": "stream",
     "text": [
      "PythonPythonPython\n"
     ]
    }
   ],
   "source": [
    "print(\"Python\" * 3)"
   ]
  },
  {
   "cell_type": "markdown",
   "id": "fcf5b3fe-59ee-403a-a1d5-28cb184b5b88",
   "metadata": {},
   "source": [
    "## Built-in functions in Python\n",
    "\n",
    "In Python you have many build-in functions which you can use without installing additional modules and tools. These functions can therefore always be used and are functions that are used particularly frequently and across the board. You can find an overview [here](https://docs.python.org/3/library/functions.html).\n",
    "\n",
    "Let's go through the most important ones:\n",
    "a) **print()**: prints the specified message to the console.\n",
    "Use it by providing a string or multiple values separated by commas or with a `+` sign. \n",
    "Try it out with printing \"Hello World!\"."
   ]
  },
  {
   "cell_type": "code",
   "execution_count": 20,
   "id": "7527508a",
   "metadata": {},
   "outputs": [
    {
     "name": "stdout",
     "output_type": "stream",
     "text": [
      "Hello World!\n"
     ]
    }
   ],
   "source": [
    "print(\"Hello World!\")"
   ]
  },
  {
   "cell_type": "markdown",
   "id": "5b2b7504",
   "metadata": {},
   "source": [
    "Here are some more possibilities:\n",
    "\n",
    "```python\n",
    "print(\"The answer is\", 42)  # Prints the concatenated string \"The answer is 42\"\n",
    "print(\"Python\", \"is\", \"fun\")  # Prints multiple values separated by spaces\n",
    "print(\"One\", \"Two\", \"Three\", sep=\"-\")  # Prints values separated by a custom separator (\"-\")\n",
    "```\n",
    "\n",
    "b) **input()**: reads a line from input and returns it as a string. In the jupyter notebook a dialog will appear on the top of the page where you can enter your input. In a normal python script you can enter your input in the console.\n",
    "You can use it like this:\n",
    "\n",
    "```python\n",
    "your_input = input(\"Where do you live? \")\n",
    "print(\"You live in\", your_input)\n",
    "```\n",
    "\n",
    "Try it out and ask for the user's name. Then print \"Hello \" + the name."
   ]
  },
  {
   "cell_type": "code",
   "execution_count": 21,
   "id": "d1a7203f",
   "metadata": {},
   "outputs": [
    {
     "name": "stdout",
     "output_type": "stream",
     "text": [
      "What is your name?  Taylor\n"
     ]
    },
    {
     "name": "stdout",
     "output_type": "stream",
     "text": [
      "Hello Taylor!\n"
     ]
    }
   ],
   "source": [
    "user_name = input(\"What is your name? \")\n",
    "print(\"Hello \" + user_name + \"!\")"
   ]
  },
  {
   "cell_type": "markdown",
   "id": "7cb3d608",
   "metadata": {},
   "source": [
    "c) **len()**: returns the length of an object (e.g., string, list, etc.).\n",
    "You can use it like this:\n",
    "\n",
    "```python\n",
    "print(len(\"Python\"))  # Prints the length of the string \"Python\"\n",
    "```\n",
    "Try it out and print the length of the string \"Python is powerful\"."
   ]
  },
  {
   "cell_type": "code",
   "execution_count": 22,
   "id": "a57ed1eb",
   "metadata": {},
   "outputs": [
    {
     "name": "stdout",
     "output_type": "stream",
     "text": [
      "18\n"
     ]
    }
   ],
   "source": [
    "string_length = len(\"Python is powerful\")\n",
    "print(string_length)"
   ]
  },
  {
   "cell_type": "markdown",
   "id": "205137fb",
   "metadata": {},
   "source": [
    "Will the following code work? Why or why not? Try to think about it before you run the code."
   ]
  },
  {
   "cell_type": "code",
   "execution_count": 23,
   "id": "3f9664e7",
   "metadata": {},
   "outputs": [
    {
     "ename": "TypeError",
     "evalue": "can only concatenate str (not \"int\") to str",
     "output_type": "error",
     "traceback": [
      "\u001b[0;31m---------------------------------------------------------------------------\u001b[0m",
      "\u001b[0;31mTypeError\u001b[0m                                 Traceback (most recent call last)",
      "Cell \u001b[0;32mIn[23], line 1\u001b[0m\n\u001b[0;32m----> 1\u001b[0m \u001b[38;5;28mprint\u001b[39m(\u001b[38;5;124;43m\"\u001b[39;49m\u001b[38;5;124;43mMy number is \u001b[39;49m\u001b[38;5;124;43m\"\u001b[39;49m\u001b[43m \u001b[49m\u001b[38;5;241;43m+\u001b[39;49m\u001b[43m \u001b[49m\u001b[38;5;241;43m5\u001b[39;49m)\n",
      "\u001b[0;31mTypeError\u001b[0m: can only concatenate str (not \"int\") to str"
     ]
    }
   ],
   "source": [
    "print(\"My number is \" + 5)"
   ]
  },
  {
   "cell_type": "markdown",
   "id": "c28229e3",
   "metadata": {},
   "source": [
    "d) **str()**: converts an object into a string. \n",
    "In the example above, the code tried to add a string and an integer. This will not work. But you can convert the integer into a string with the `str()` function.\n",
    "Use it like this:\n",
    "\n",
    "```python\n",
    "number = 42\n",
    "number_str = str(number)\n",
    "```\n",
    "\n",
    "Try it out:\n",
    "- Store any number in the variable `number`\n",
    "- There is a second variable `number_str`. Convert `number` into a string with `str()` and store it in `number_str`\n",
    "- Print your result!"
   ]
  },
  {
   "cell_type": "code",
   "execution_count": null,
   "id": "0318c1b4",
   "metadata": {},
   "outputs": [],
   "source": [
    "number = 10\n",
    "number_str = str(number)\n",
    "print(\"My number is \" + number_str)"
   ]
  },
  {
   "cell_type": "markdown",
   "id": "0130bcb2",
   "metadata": {},
   "source": [
    "e) **int()**: converts a string or a float to an integer.\n",
    "This works the same way as `str()`. Use it like this:\n",
    "\n",
    "```python\n",
    "number_str = \"42\"\n",
    "number = int(number_str)\n",
    "```\n",
    "Try it out:\n",
    "- Store any number in the variable `number_str` as a string\n",
    "- There is a second variable `number`. Convert `number_str` into an integer with `int()` and store it in `number`\n",
    "- Print your result!"
   ]
  },
  {
   "cell_type": "code",
   "execution_count": null,
   "id": "c731418e",
   "metadata": {},
   "outputs": [],
   "source": [
    "number_str = \"10\"\n",
    "number = int(number_str)\n",
    "print(number + 5)"
   ]
  },
  {
   "cell_type": "markdown",
   "id": "41f5306a",
   "metadata": {},
   "source": [
    "f) **float()**: converts a string or an integer to a float.\n",
    "This works the same way as `str()` and `int()`. Use it like this:\n",
    "\n",
    "```python\n",
    "number_str = \"42\"\n",
    "number = float(number_str)\n",
    "```\n",
    "Try it out:\n",
    "- Store any number in the variable `number_str` as a string. It can be something like \"42\" or \"42.13\"\n",
    "- There is a second variable `number`. Convert `number_str` into a float with `float()` and store it in `number`\n",
    "- Print your result!"
   ]
  },
  {
   "cell_type": "code",
   "execution_count": null,
   "id": "a3cc6c88",
   "metadata": {},
   "outputs": [],
   "source": [
    "number_str = \"10\"\n",
    "number = float(number_str)\n",
    "print(number)"
   ]
  },
  {
   "cell_type": "markdown",
   "id": "1d379017-e5e6-4f6a-b38b-1794756e7737",
   "metadata": {},
   "source": [
    "## Lists and tuples"
   ]
  },
  {
   "cell_type": "markdown",
   "id": "897e9a24-c1ca-4363-8938-c4e4250dd3f0",
   "metadata": {},
   "source": [
    "Lists and tuples can contain multiple values, even multiple lists. You can store a list in a variable and use them like normal variables for the most part.\n",
    "\n",
    "Lists look like this:\n",
    "\n",
    "```python\n",
    "animals = [\"cat\", \"bat\", \"rat\", \"elephant\"]\n",
    "\n",
    "we_are_numbers = [1,3,4]\n",
    "```\n",
    "\n",
    "There are countless ways to work with lists. Let's work through some of them. \n",
    "\n",
    "a) You can access items of a list via its index like `your_list[i]`. Print the item with index `[1]` of the list numbers"
   ]
  },
  {
   "cell_type": "code",
   "execution_count": null,
   "id": "4f27d5fb",
   "metadata": {},
   "outputs": [],
   "source": [
    "numbers = [1,4,7]\n",
    "number = numbers[1]\n",
    "print(number)"
   ]
  },
  {
   "cell_type": "markdown",
   "id": "cd85bdd9",
   "metadata": {},
   "source": [
    "b) Remember that you start counting at 0. So the first item has the index 0. The second item has the index 1 and so on. Which index does the item \"rat\" have, if \"cat\" has index 0? Print rat with its index."
   ]
  },
  {
   "cell_type": "code",
   "execution_count": null,
   "id": "e38e2afa",
   "metadata": {},
   "outputs": [],
   "source": [
    "animals = [\"cat\", \"bat\", \"rat\", \"elephant\"]\n",
    "print(animals[2])"
   ]
  },
  {
   "cell_type": "markdown",
   "id": "c0606d99",
   "metadata": {},
   "source": [
    "c) You can use the index also backwards with negative numbers. The last item has the index -1, the second to last item has the index -2 and so on. Print the last item of the list `animals`."
   ]
  },
  {
   "cell_type": "code",
   "execution_count": null,
   "id": "6f29959b",
   "metadata": {},
   "outputs": [],
   "source": [
    "animals = [\"cat\", \"bat\", \"rat\", \"elephant\"]\n",
    "print(animals[-1])"
   ]
  },
  {
   "cell_type": "markdown",
   "id": "8c94376a",
   "metadata": {},
   "source": [
    "d) You can work with single items of a list as you would with a normal variable. Print the sentence below with an animal of your choice.  "
   ]
  },
  {
   "cell_type": "code",
   "execution_count": null,
   "id": "5bca036f",
   "metadata": {},
   "outputs": [],
   "source": [
    "animals = [\"cat\", \"bat\", \"rat\", \"elephant\"]\n",
    "print(\"I like the \" + animals[0])"
   ]
  },
  {
   "cell_type": "markdown",
   "id": "bcdec5e7",
   "metadata": {},
   "source": [
    "e) You can slice parts of the list with `your_list[first index:last index(not inclusive)]`. With not inclusive it means that the item with the last index will not be included.\n",
    "Use it like this:\n",
    "\n",
    "```python\n",
    "food = [\"pizza\", \"burger\", \"pasta\", \"salad\"]\n",
    "print(food[1:3])  # Prints the items with index 1 and 2, so [\"burger\", \"pasta\"]\n",
    "```\n",
    "\n",
    "Print the first two items of the list `animals`.\n",
    "**Note:** You don't change the value of the list with slicing. For this you need to store the sliced list in a variable."
   ]
  },
  {
   "cell_type": "code",
   "execution_count": null,
   "id": "01cf3058",
   "metadata": {},
   "outputs": [],
   "source": [
    "animals = [\"cat\", \"bat\", \"rat\", \"elephant\"]\n",
    "sliced_animals = animals[1:3]\n",
    "print(sliced_animals)"
   ]
  },
  {
   "cell_type": "markdown",
   "id": "3cc68a9b",
   "metadata": {},
   "source": [
    "f) There are different ways to slice lists: `list[1:2], list[:2], list[2:], list[-2:-4]`. Play around with these options a little."
   ]
  },
  {
   "cell_type": "code",
   "execution_count": null,
   "id": "e6516de9",
   "metadata": {},
   "outputs": [],
   "source": [
    "animals = [\"cat\", \"bat\", \"rat\", \"elephant\", \"dog\", \"mouse\"]\n",
    "sliced_animals = animals[:3]\n",
    "# sliced_animals = animals[2:]\n",
    "# sliced_animals = animals[-2:-4]\n",
    "print(sliced_animals)"
   ]
  },
  {
   "cell_type": "markdown",
   "id": "c3ffc1e4",
   "metadata": {},
   "source": [
    "g) You can get the length of a list with `len(your_list)`. How long are our example lists? Print both lengths."
   ]
  },
  {
   "cell_type": "code",
   "execution_count": null,
   "id": "3137105b",
   "metadata": {},
   "outputs": [],
   "source": [
    "animals = [\"cat\", \"bat\", \"rat\", \"elephant\", \"dog\", \"mouse\"]\n",
    "numbers = [3,1,4,12,2]\n",
    "\n",
    "length_animals = len(animals)\n",
    "length_numbers = len(numbers)\n",
    "\n",
    "print(length_animals)\n",
    "print(length_numbers)"
   ]
  },
  {
   "cell_type": "markdown",
   "id": "6f70ae52",
   "metadata": {},
   "source": [
    "h) If you want to change a single value of a list, you can overwrite it with your_list[index] = \"new value\". Overwrite \"elephant\" (index 3) with \"cow\"."
   ]
  },
  {
   "cell_type": "code",
   "execution_count": null,
   "id": "f6b65f7b",
   "metadata": {},
   "outputs": [],
   "source": [
    "animals = [\"cat\", \"bat\", \"rat\", \"elephant\"]\n",
    "animals[3] = \"cow\"\n",
    "print(animals)"
   ]
  },
  {
   "cell_type": "markdown",
   "id": "bef4c306",
   "metadata": {},
   "source": [
    "i) Add our two lists together and store it in the variable animals_and_numbers. To add a two lists together you can use the `+` operator:\n",
    "```python\t\n",
    "list_1 = [1,2,3]\n",
    "list_2 = [4,5,6]\n",
    "list_3 = list_1 + list_2\n",
    "```\n",
    "Print the new list."
   ]
  },
  {
   "cell_type": "code",
   "execution_count": null,
   "id": "ccb0c13f",
   "metadata": {},
   "outputs": [],
   "source": [
    "animals = [\"cat\", \"bat\", \"rat\", \"elephant\"]\n",
    "numbers = [3,1,4,12,2]\n",
    "animals_and_numbers = animals + numbers\n",
    "print(animals_and_numbers)"
   ]
  },
  {
   "cell_type": "markdown",
   "id": "11ce19d7",
   "metadata": {},
   "source": [
    "j) If you want to append an item to the end of the list, you can use .append(), like this:\n",
    "```python\t\n",
    "fruits = [\"apple\", \"banana\", \"cherry\"]\n",
    "fruits.append(\"orange\")\n",
    "```\n",
    "Append \"dog\" to animals."
   ]
  },
  {
   "cell_type": "code",
   "execution_count": null,
   "id": "86ef94e8",
   "metadata": {},
   "outputs": [],
   "source": [
    "animals = [\"cat\", \"bat\", \"rat\", \"elephant\"]\n",
    "animals.append(\"dog\")\n",
    "print(animals)"
   ]
  },
  {
   "cell_type": "markdown",
   "id": "d8fbe846",
   "metadata": {},
   "source": [
    "k) You can remove items with the remove function: .remove(\"item\"). The first one which matches, will be removed. Use it like this:\n",
    "```python\n",
    "fruits = [\"apple\", \"banana\", \"cherry\"]\n",
    "fruits.remove(\"banana\")\n",
    "```\n",
    "Remove \"rat\" from animals."
   ]
  },
  {
   "cell_type": "code",
   "execution_count": null,
   "id": "267e7af1",
   "metadata": {},
   "outputs": [],
   "source": [
    "animals = [\"cat\", \"bat\", \"rat\", \"elephant\"]\n",
    "animals.remove(\"rat\")\n",
    "print(animals)"
   ]
  },
  {
   "cell_type": "markdown",
   "id": "80db4b50",
   "metadata": {},
   "source": [
    "l) To filter out the value of a specific index, use pop: list.pop(1). This won't change the list, for this you need to store it in a variable. Use it like this:\n",
    "```python\n",
    "fruits = [\"apple\", \"banana\", \"cherry\"]\n",
    "one_fruit = fruits.pop(1)\n",
    "```\n",
    "Pop the second item of numbers."
   ]
  },
  {
   "cell_type": "code",
   "execution_count": null,
   "id": "9a43ccd7",
   "metadata": {},
   "outputs": [],
   "source": [
    "numbers = [3,1,4,12,2]\n",
    "my_number = numbers.pop(1)\n",
    "print(my_number)"
   ]
  },
  {
   "cell_type": "markdown",
   "id": "cfd8e72a",
   "metadata": {},
   "source": [
    "m) If you want to delete an item of a list, use the del keyword: `del list[index]`. Use it like this:\n",
    "```python\n",
    "fruits = [\"apple\", \"banana\", \"cherry\"]\n",
    "del fruits[1]\n",
    "```\n",
    "\n",
    "Delete the second value of the numbers list"
   ]
  },
  {
   "cell_type": "code",
   "execution_count": null,
   "id": "5807a7c3",
   "metadata": {},
   "outputs": [],
   "source": [
    "numbers = [3,1,4,12,2]\n",
    "del numbers[1]\n",
    "print(numbers)"
   ]
  },
  {
   "cell_type": "markdown",
   "id": "3a18ce96",
   "metadata": {},
   "source": [
    "n) To clear a whole list, you can use the clear function: `.clear()`. Use it like this:\n",
    "```python\n",
    "fruits = [\"apple\", \"banana\", \"cherry\"]\n",
    "fruits.clear()\n",
    "```\n",
    "Try it with the numbers list."
   ]
  },
  {
   "cell_type": "code",
   "execution_count": null,
   "id": "aa0c33f1",
   "metadata": {},
   "outputs": [],
   "source": [
    "numbers = [3,1,4,12,2]\n",
    "numbers.clear()"
   ]
  },
  {
   "cell_type": "markdown",
   "id": "1b4a9559",
   "metadata": {},
   "source": [
    "o) To reverse the items of a list, use the `.reverse()` function. This will put the first item to the end and so on. Use it like this:\n",
    "```python\n",
    "fruits = [\"apple\", \"banana\", \"cherry\"]\n",
    "fruits.reverse()\n",
    "print(fruits)  # Prints [\"cherry\", \"banana\", \"apple\"]\n",
    "```\n",
    "Try it with the animals list."
   ]
  },
  {
   "cell_type": "code",
   "execution_count": null,
   "id": "e30588ee",
   "metadata": {},
   "outputs": [],
   "source": [
    "animals = [\"cat\", \"bat\", \"rat\", \"elephant\"]\n",
    "animals.reverse()\n",
    "print(animals)"
   ]
  },
  {
   "cell_type": "markdown",
   "id": "20221ca1",
   "metadata": {},
   "source": [
    "p) If you want to find an index of a specific element, use the `.index()` function. Use it like this:\n",
    "```python\n",
    "fruits = [\"apple\", \"banana\", \"cherry\"]\n",
    "print(fruits.index(\"banana\"))  # Prints 1\n",
    "```\n",
    "Which index has \"cat\" in animals?"
   ]
  },
  {
   "cell_type": "code",
   "execution_count": null,
   "id": "81c4b0ba",
   "metadata": {},
   "outputs": [],
   "source": [
    "animals = [\"cat\", \"bat\", \"rat\", \"elephant\"]\n",
    "index_of_cat = animals.index(\"cat\")\n",
    "print(index_of_cat)"
   ]
  },
  {
   "cell_type": "markdown",
   "id": "70d06b19",
   "metadata": {},
   "source": [
    "q) If you don't want to add an item at the end of a list with append, you can also insert it to a specific index with the .insert() function. Use it like this:\n",
    "```python\n",
    "fruits = [\"apple\", \"banana\", \"cherry\"]\n",
    "fruits.insert(1, \"orange\")\n",
    "print(fruits)  # Prints [\"apple\", \"orange\", \"banana\", \"cherry\"]\n",
    "``` \n",
    "Insert mouse at the index 3"
   ]
  },
  {
   "cell_type": "code",
   "execution_count": null,
   "id": "e7be4a8a",
   "metadata": {},
   "outputs": [],
   "source": [
    "animals = [\"cat\", \"bat\", \"rat\", \"elephant\"]\n",
    "animals.insert(3, \"mouse\")\n",
    "print(animals)"
   ]
  },
  {
   "cell_type": "markdown",
   "id": "2f5b43dd",
   "metadata": {},
   "source": [
    "r) You can sort your lists with same data types in it with the `.sort()` function. Use it like this:\n",
    "```python\n",
    "fruits = [\"banana\", \"apple\", \"cherry\"]\n",
    "fruits.sort()\n",
    "print(fruits)  # Prints [\"apple\", \"banana\", \"cherry\"]\n",
    "```\n",
    "The list fruits_with_numbers would throw an error, because it contains different data types:\n",
    "```python\n",
    "fruits_with_numbers = [\"banana\", \"apple\", 3, 2, 1, \"cherry\"]\n",
    "fruits_with_numbers.sort()\n",
    "# Error: TypeError: '<' not supported between instances of 'int' and 'str'\n",
    "```\n",
    "Sort both lists and print the result."
   ]
  },
  {
   "cell_type": "code",
   "execution_count": null,
   "id": "730e4318",
   "metadata": {},
   "outputs": [],
   "source": [
    "animals = [\"cat\", \"bat\", \"rat\", \"elephant\"]\n",
    "numbers = [3,1,4,12,2]\n",
    "\n",
    "animals.sort()\n",
    "print(animals)\n",
    "\n",
    "numbers.sort()\n",
    "print(numbers)"
   ]
  },
  {
   "cell_type": "markdown",
   "id": "b4c6a50b",
   "metadata": {},
   "source": [
    "s) Sort the weekdays list. What do you notice?"
   ]
  },
  {
   "cell_type": "code",
   "execution_count": null,
   "id": "32811051",
   "metadata": {},
   "outputs": [],
   "source": [
    "weekdays = [\"Monday\", \"tuesday\", \"Wednesday\", \"thursday\", \"Friday\"]\n",
    "weekdays.sort()\n",
    "print(weekdays)"
   ]
  },
  {
   "cell_type": "markdown",
   "id": "da31f80a",
   "metadata": {},
   "source": [
    "t) The list `weekdays` is not sorted in the way you would expect. This is because the sort function is case sensitive. To sort it correctly, you can use the `key` parameter of the sort function. Use it like this:\n",
    "```python\n",
    "names = [\"Max\", \"anna\", \"Erik\"]\n",
    "names.sort(key=str.lower)\n",
    "print(names)  # Prints [\"anna\", \"Erik\", \"Max\"]\n",
    "```\n",
    "Sort the weekdays list again and print the result."
   ]
  },
  {
   "cell_type": "code",
   "execution_count": null,
   "id": "e64873b9",
   "metadata": {},
   "outputs": [],
   "source": [
    "weekdays = [\"Monday\", \"tuesday\", \"Wednesday\", \"thursday\", \"Friday\"]"
   ]
  },
  {
   "cell_type": "markdown",
   "id": "ebcf50f5-5ab9-40e4-b6b1-d53905b80121",
   "metadata": {},
   "source": [
    "### Tuples\n",
    "\n",
    "Tuples are almost identical to lists, but written with paratheses instead of square brackets and they are *immutable*. So you can't modify, append and remove their values. Good to use, if the values should exactly stay as they are.\n",
    "A tuple looks like this:\n",
    "\n",
    "```python\n",
    "fruits = (\"apple\", \"banana\", \"cherry\")\n",
    "```\n",
    "\n",
    "a) Create a tuple with the items of animals. Then try to change the item with index 1 to \"dog\". Does it work?"
   ]
  },
  {
   "cell_type": "code",
   "execution_count": null,
   "id": "d4fff1dd-6c28-43bc-b839-f0bf9fb7c20f",
   "metadata": {},
   "outputs": [],
   "source": [
    "animals = (\"cat\", \"bat\", \"rat\", \"elephant\")\n",
    "#animals[1] = \"dog\""
   ]
  },
  {
   "cell_type": "markdown",
   "id": "ac85cfa9-a971-42a5-a5e9-ab77008989d7",
   "metadata": {},
   "source": [
    "## Dictionaries\n",
    "\n",
    "Dictionaries are kind of an advanced list. Dictionaries are always written as key-value pairs in curly brackets, like `{\"location\": \"Bielefeld\"}`. In addition to lists, individual elements can be accessed directly via their key: `workshop = {\"location\": \"Bielefeld\", \"weather\":\"good\", \"topic\": \"python\"}`, `workshop[\"topic\"]` would return \"python\". Dictionaries are mutable, but most of the functions for lists does not work for dictionaries. They are more likely to be used to store larger nested data volumes and therefore have a few functions of their own.\n",
    "\n",
    "a) \n",
    "- Create a dictionary. \n",
    "- Store it in the variable myDay. \n",
    "- It should have the **keys** \"weekday\", \"weather\" and \"plans\".\n",
    "- The keys should each have the **values** \"monday\", \"good\" and \"workshop\"\n",
    "- Now print value of \"weather\"."
   ]
  },
  {
   "cell_type": "code",
   "execution_count": null,
   "id": "2e31e822-aaac-4b2a-9d44-63c9be9d545f",
   "metadata": {},
   "outputs": [],
   "source": [
    "myDay = {\"weekday\": \"monday\", \"weather\": \"good\", \"plans\": \"workshop\"}\n",
    "print(myDay[\"weather\"])"
   ]
  },
  {
   "cell_type": "markdown",
   "id": "f39bcf5d-7576-4957-ad6c-5d9a338b0288",
   "metadata": {},
   "source": [
    "b) To access the keys, use the .keys()-function. \n",
    "You can use it like this:\n",
    "```python\n",
    "workshop = {\"location\": \"Bielefeld\", \"weather\":\"good\", \"topic\": \"python\"}\n",
    "print(workshop.keys())\n",
    "```\n",
    "\n",
    "Try it with your myDay-Dictionary."
   ]
  },
  {
   "cell_type": "code",
   "execution_count": null,
   "id": "cefff917-8264-4545-907f-1fcb75dc5e70",
   "metadata": {},
   "outputs": [],
   "source": [
    "myDay = {\"weekday\": \"monday\", \"weather\": \"good\", \"plans\": \"workshop\"}\n",
    "print(myDay.keys())"
   ]
  },
  {
   "cell_type": "markdown",
   "id": "faf91471-8f12-4636-ae54-e57cde998610",
   "metadata": {},
   "source": [
    "c) You can also access the values with the .values()-function. The usage is similar to the .keys()-function.\n",
    "Try it with your myDay-Dictionary."
   ]
  },
  {
   "cell_type": "code",
   "execution_count": null,
   "id": "cf73c9c3-7a4a-413c-87d7-d69b7eddef86",
   "metadata": {},
   "outputs": [],
   "source": [
    "myDay = {\"weekday\": \"monday\", \"weather\": \"good\", \"plans\": \"workshop\"}\n",
    "print(myDay.values())"
   ]
  },
  {
   "cell_type": "markdown",
   "id": "9fd2422b-2c35-4ec1-a038-81e6fb9c30d2",
   "metadata": {},
   "source": [
    "d) You can also access both keys and values at the same time with the .items()-function. The usage is similar to the .keys()-function. It returns a list of tuples, where each tuple contains a key-value pair. Try it with your myDay-Dictionary."
   ]
  },
  {
   "cell_type": "code",
   "execution_count": null,
   "id": "046175b2-6bfa-4d67-9b75-50df45e9dbf2",
   "metadata": {},
   "outputs": [],
   "source": [
    "myDay = {\"weekday\": \"monday\", \"weather\": \"good\", \"plans\": \"workshop\"}\n",
    "print(myDay.items())"
   ]
  },
  {
   "cell_type": "markdown",
   "id": "b6f66a39-9acc-42b1-a3f5-eb6e733ea21e",
   "metadata": {},
   "source": [
    "e) To check, if a key or value exist in a dictionary, you can use the \"in\" keyword. \n",
    "\n",
    "Use it like this:\n",
    "\n",
    "```python\n",
    "workshop = {\"location\": \"Bielefeld\", \"weather\":\"good\", \"topic\": \"python\"}\n",
    "print(\"weather\" in workshop.keys()) # returns True\n",
    "print(\"date\" in workshop.keys()) # returns False\n",
    "```\n",
    "\n",
    "Try it with your myDay-Dictionary:\n",
    "- Check if \"weather\" is a **key** in myDay\n",
    "- Check if \"rain\" is a **value** in myDay"
   ]
  },
  {
   "cell_type": "code",
   "execution_count": null,
   "id": "ea9cc12c-6702-49f0-8157-8402731148c4",
   "metadata": {},
   "outputs": [],
   "source": [
    "myDay = {\"weekday\": \"monday\", \"weather\": \"good\", \"plans\": \"workshop\"}\n",
    "print(\"weather\" in myDay.keys())\n",
    "print(\"rain\" in myDay.values())"
   ]
  }
 ],
 "metadata": {
  "kernelspec": {
   "display_name": ".venv",
   "language": "python",
   "name": "python3"
  },
  "language_info": {
   "codemirror_mode": {
    "name": "ipython",
    "version": 3
   },
   "file_extension": ".py",
   "mimetype": "text/x-python",
   "name": "python",
   "nbconvert_exporter": "python",
   "pygments_lexer": "ipython3",
   "version": "3.10.12"
  }
 },
 "nbformat": 4,
 "nbformat_minor": 5
}
