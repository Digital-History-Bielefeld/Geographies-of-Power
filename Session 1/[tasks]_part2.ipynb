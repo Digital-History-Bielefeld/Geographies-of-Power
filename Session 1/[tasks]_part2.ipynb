{
 "cells": [
  {
   "cell_type": "markdown",
   "id": "1c8ef376-30d2-404a-bda7-41cb798a9f46",
   "metadata": {},
   "source": [
    "# Python Basics I - Part 2"
   ]
  },
  {
   "cell_type": "markdown",
   "id": "1d379017-e5e6-4f6a-b38b-1794756e7737",
   "metadata": {},
   "source": [
    "## Lists and tuples"
   ]
  },
  {
   "cell_type": "markdown",
   "id": "897e9a24-c1ca-4363-8938-c4e4250dd3f0",
   "metadata": {},
   "source": [
    "Lists and tuples can contain multiple values, even multiple lists. You can store a list in a variable and use them like normal variables for the most part.\n",
    "\n",
    "Lists look like this:\n",
    "\n",
    "```python\n",
    "animals = [\"cat\", \"bat\", \"rat\", \"elephant\"]\n",
    "\n",
    "we_are_numbers = [1,3,4]\n",
    "```\n",
    "\n",
    "There are countless ways to work with lists. Let's work through some of them. \n",
    "\n",
    "a) You can access items of a list via its index like `your_list[i]`. Print the item with index `[1]` of the list numbers"
   ]
  },
  {
   "cell_type": "code",
   "execution_count": null,
   "id": "4f27d5fb",
   "metadata": {},
   "outputs": [],
   "source": [
    "numbers = [1,4,7]\n",
    "number = # Access the element with index 1 here\n",
    "print(number)"
   ]
  },
  {
   "cell_type": "markdown",
   "id": "cd85bdd9",
   "metadata": {},
   "source": [
    "b) Remember that you start counting at 0. So the first item has the index 0. The second item has the index 1 and so on. Which index does the item \"rat\" have, if \"cat\" has index 0? Print rat with its index."
   ]
  },
  {
   "cell_type": "code",
   "execution_count": null,
   "id": "e38e2afa",
   "metadata": {},
   "outputs": [],
   "source": [
    "animals = [\"cat\", \"bat\", \"rat\", \"elephant\"]\n",
    "print() # Which index is \"rat\"? Print it here via its index"
   ]
  },
  {
   "cell_type": "markdown",
   "id": "c0606d99",
   "metadata": {},
   "source": [
    "c) You can use the index also backwards with negative numbers. The last item has the index -1, the second to last item has the index -2 and so on. Print the last item of the list `animals`."
   ]
  },
  {
   "cell_type": "code",
   "execution_count": null,
   "id": "6f29959b",
   "metadata": {},
   "outputs": [],
   "source": [
    "animals = [\"cat\", \"bat\", \"rat\", \"elephant\"]\n",
    "print() # Print the last element of the list here (not animals[3])"
   ]
  },
  {
   "cell_type": "markdown",
   "id": "8c94376a",
   "metadata": {},
   "source": [
    "d) You can work with single items of a list as you would with a normal variable. Print the sentence below with an animal of your choice.  "
   ]
  },
  {
   "cell_type": "code",
   "execution_count": null,
   "id": "5bca036f",
   "metadata": {},
   "outputs": [],
   "source": [
    "animals = [\"cat\", \"bat\", \"rat\", \"elephant\"]\n",
    "print(\"I like the \" + ) # Add the animal of your choice here"
   ]
  },
  {
   "cell_type": "markdown",
   "id": "bcdec5e7",
   "metadata": {},
   "source": [
    "e) You can slice parts of the list with `your_list[first index:last index(not inclusive)]`. With not inclusive it means that the item with the last index will not be included.\n",
    "Use it like this:\n",
    "\n",
    "```python\n",
    "food = [\"pizza\", \"burger\", \"pasta\", \"salad\"]\n",
    "print(food[1:3])  # Prints the items with index 1 and 2, so [\"burger\", \"pasta\"]\n",
    "```\n",
    "\n",
    "Print the first two items of the list `animals`.\n",
    "**Note:** You don't change the value of the list with slicing. For this you need to store the sliced list in a variable."
   ]
  },
  {
   "cell_type": "code",
   "execution_count": null,
   "id": "01cf3058",
   "metadata": {},
   "outputs": [],
   "source": [
    "animals = [\"cat\", \"bat\", \"rat\", \"elephant\"]\n",
    "sliced_animals = # Add your slicing here\n",
    "print(sliced_animals)"
   ]
  },
  {
   "cell_type": "markdown",
   "id": "3cc68a9b",
   "metadata": {},
   "source": [
    "f) There are different ways to slice lists: `list[1:2], list[:2], list[2:], list[-2:-4]`. Play around with these options a little."
   ]
  },
  {
   "cell_type": "code",
   "execution_count": null,
   "id": "e6516de9",
   "metadata": {},
   "outputs": [],
   "source": [
    "animals = [\"cat\", \"bat\", \"rat\", \"elephant\", \"dog\", \"mouse\"]\n",
    "sliced_animals = # play around here\n",
    "print(sliced_animals)"
   ]
  },
  {
   "cell_type": "markdown",
   "id": "c3ffc1e4",
   "metadata": {},
   "source": [
    "g) You can get the length of a list with `len(your_list)`. How long are our example lists? Print both lengths."
   ]
  },
  {
   "cell_type": "code",
   "execution_count": null,
   "id": "3137105b",
   "metadata": {},
   "outputs": [],
   "source": [
    "animals = [\"cat\", \"bat\", \"rat\", \"elephant\", \"dog\", \"mouse\"]\n",
    "numbers = [3,1,4,12,2]\n",
    "\n",
    "length_animals = # Add your len function here\n",
    "length_numbers = # Add your len function here\n",
    "\n",
    "print(length_animals)\n",
    "print(length_numbers)"
   ]
  },
  {
   "cell_type": "markdown",
   "id": "6f70ae52",
   "metadata": {},
   "source": [
    "h) If you want to change a single value of a list, you can overwrite it with your_list[index] = \"new value\". Overwrite \"elephant\" (index 3) with \"cow\"."
   ]
  },
  {
   "cell_type": "code",
   "execution_count": null,
   "id": "f6b65f7b",
   "metadata": {},
   "outputs": [],
   "source": [
    "animals = [\"cat\", \"bat\", \"rat\", \"elephant\"]\n",
    "# Add your new value for index 3 here\n",
    "print(animals)"
   ]
  },
  {
   "cell_type": "markdown",
   "id": "bef4c306",
   "metadata": {},
   "source": [
    "i) Add our two lists together and store it in the variable animals_and_numbers. To add two lists together you can use the `+` operator:\n",
    "```python\t\n",
    "list_1 = [1,2,3]\n",
    "list_2 = [4,5,6]\n",
    "list_3 = list_1 + list_2\n",
    "```\n",
    "Print the new list."
   ]
  },
  {
   "cell_type": "code",
   "execution_count": null,
   "id": "ccb0c13f",
   "metadata": {},
   "outputs": [],
   "source": [
    "animals = [\"cat\", \"bat\", \"rat\", \"elephant\"]\n",
    "numbers = [3,1,4,12,2]\n",
    "animals_and_numbers = # Add your concatenation here\n",
    "print(animals_and_numbers)"
   ]
  },
  {
   "cell_type": "markdown",
   "id": "11ce19d7",
   "metadata": {},
   "source": [
    "j) If you want to append an item to the end of the list, you can use .append(), like this:\n",
    "```python\t\n",
    "fruits = [\"apple\", \"banana\", \"cherry\"]\n",
    "fruits.append(\"orange\")\n",
    "```\n",
    "Append \"dog\" to animals."
   ]
  },
  {
   "cell_type": "code",
   "execution_count": null,
   "id": "86ef94e8",
   "metadata": {},
   "outputs": [],
   "source": [
    "animals = [\"cat\", \"bat\", \"rat\", \"elephant\"]\n",
    "# Add your append function here\n",
    "print(animals)"
   ]
  },
  {
   "cell_type": "markdown",
   "id": "d8fbe846",
   "metadata": {},
   "source": [
    "k) You can remove items with the remove function: .remove(\"item\"). The first one which matches, will be removed. Use it like this:\n",
    "```python\n",
    "fruits = [\"apple\", \"banana\", \"cherry\"]\n",
    "fruits.remove(\"banana\")\n",
    "```\n",
    "Remove \"rat\" from animals."
   ]
  },
  {
   "cell_type": "code",
   "execution_count": null,
   "id": "267e7af1",
   "metadata": {},
   "outputs": [],
   "source": [
    "animals = [\"cat\", \"bat\", \"rat\", \"elephant\"]\n",
    "# Add your remove function here\n",
    "print(animals)"
   ]
  },
  {
   "cell_type": "markdown",
   "id": "80db4b50",
   "metadata": {},
   "source": [
    "l) To filter out the value of a specific index, use pop: list.pop(1). This won't change the list, for this you need to store it in a variable. Use it like this:\n",
    "```python\n",
    "fruits = [\"apple\", \"banana\", \"cherry\"]\n",
    "one_fruit = fruits.pop(1)\n",
    "```\n",
    "Pop the second item of numbers."
   ]
  },
  {
   "cell_type": "code",
   "execution_count": null,
   "id": "9a43ccd7",
   "metadata": {},
   "outputs": [],
   "source": [
    "numbers = [3,1,4,12,2]\n",
    "my_number = # Pop the second element here\n",
    "print(my_number)"
   ]
  },
  {
   "cell_type": "markdown",
   "id": "cfd8e72a",
   "metadata": {},
   "source": [
    "m) If you want to delete an item of a list, use the del keyword: `del list[index]`. Use it like this:\n",
    "```python\n",
    "fruits = [\"apple\", \"banana\", \"cherry\"]\n",
    "del fruits[1]\n",
    "```\n",
    "\n",
    "Delete the second value of the numbers list"
   ]
  },
  {
   "cell_type": "code",
   "execution_count": null,
   "id": "5807a7c3",
   "metadata": {},
   "outputs": [],
   "source": [
    "numbers = [3,1,4,12,2]\n",
    "# Add your delete function here\n",
    "print(numbers)"
   ]
  },
  {
   "cell_type": "markdown",
   "id": "3a18ce96",
   "metadata": {},
   "source": [
    "n) To clear a whole list, you can use the clear function: `.clear()`. Use it like this:\n",
    "```python\n",
    "fruits = [\"apple\", \"banana\", \"cherry\"]\n",
    "fruits.clear()\n",
    "```\n",
    "Try it with the numbers list."
   ]
  },
  {
   "cell_type": "code",
   "execution_count": null,
   "id": "aa0c33f1",
   "metadata": {},
   "outputs": [],
   "source": [
    "numbers = [3,1,4,12,2]\n",
    "# Add your clear function here\n",
    "print(numbers)"
   ]
  },
  {
   "cell_type": "markdown",
   "id": "1b4a9559",
   "metadata": {},
   "source": [
    "o) To reverse the items of a list, use the `.reverse()` function. This will put the first item to the end and so on. Use it like this:\n",
    "```python\n",
    "fruits = [\"apple\", \"banana\", \"cherry\"]\n",
    "fruits.reverse()\n",
    "print(fruits)  # Prints [\"cherry\", \"banana\", \"apple\"]\n",
    "```\n",
    "Try it with the animals list."
   ]
  },
  {
   "cell_type": "code",
   "execution_count": null,
   "id": "e30588ee",
   "metadata": {},
   "outputs": [],
   "source": [
    "animals = [\"cat\", \"bat\", \"rat\", \"elephant\"]\n",
    "# Add your reverse function here\n",
    "print(animals)"
   ]
  },
  {
   "cell_type": "markdown",
   "id": "20221ca1",
   "metadata": {},
   "source": [
    "p) If you want to find an index of a specific element, use the `.index()` function. Use it like this:\n",
    "```python\n",
    "fruits = [\"apple\", \"banana\", \"cherry\"]\n",
    "print(fruits.index(\"banana\"))  # Prints 1\n",
    "```\n",
    "Which index has \"cat\" in animals?"
   ]
  },
  {
   "cell_type": "code",
   "execution_count": null,
   "id": "81c4b0ba",
   "metadata": {},
   "outputs": [],
   "source": [
    "animals = [\"cat\", \"bat\", \"rat\", \"elephant\"]\n",
    "index_of_cat = # Add your index function here\n",
    "print(index_of_cat)"
   ]
  },
  {
   "cell_type": "markdown",
   "id": "70d06b19",
   "metadata": {},
   "source": [
    "q) If you don't want to add an item at the end of a list with append, you can also insert it to a specific index with the .insert() function. Use it like this:\n",
    "```python\n",
    "fruits = [\"apple\", \"banana\", \"cherry\"]\n",
    "fruits.insert(1, \"orange\")\n",
    "print(fruits)  # Prints [\"apple\", \"orange\", \"banana\", \"cherry\"]\n",
    "``` \n",
    "Insert mouse at the index 3"
   ]
  },
  {
   "cell_type": "code",
   "execution_count": null,
   "id": "e7be4a8a",
   "metadata": {},
   "outputs": [],
   "source": [
    "animals = [\"cat\", \"bat\", \"rat\", \"elephant\"]\n",
    "# Add your insert function here\n",
    "print(animals)"
   ]
  },
  {
   "cell_type": "markdown",
   "id": "2f5b43dd",
   "metadata": {},
   "source": [
    "r) You can sort your lists with same data types in it with the `.sort()` function. Use it like this:\n",
    "```python\n",
    "fruits = [\"banana\", \"apple\", \"cherry\"]\n",
    "fruits.sort()\n",
    "print(fruits)  # Prints [\"apple\", \"banana\", \"cherry\"]\n",
    "```\n",
    "The list fruits_with_numbers would throw an error, because it contains different data types:\n",
    "```python\n",
    "fruits_with_numbers = [\"banana\", \"apple\", 3, 2, 1, \"cherry\"]\n",
    "fruits_with_numbers.sort()\n",
    "# Error: TypeError: '<' not supported between instances of 'int' and 'str'\n",
    "```\n",
    "Sort both lists and print the result."
   ]
  },
  {
   "cell_type": "code",
   "execution_count": null,
   "id": "730e4318",
   "metadata": {},
   "outputs": [],
   "source": [
    "animals = [\"cat\", \"bat\", \"rat\", \"elephant\"]\n",
    "numbers = [3,1,4,12,2]\n",
    "\n",
    "# Add your sort function here\n",
    "print(animals)\n",
    "\n",
    "# Add your sort function here\n",
    "print(numbers)"
   ]
  },
  {
   "cell_type": "markdown",
   "id": "b4c6a50b",
   "metadata": {},
   "source": [
    "s) Sort the weekdays list. What do you notice?"
   ]
  },
  {
   "cell_type": "code",
   "execution_count": null,
   "id": "32811051",
   "metadata": {},
   "outputs": [],
   "source": [
    "weekdays = [\"Monday\", \"tuesday\", \"Wednesday\", \"thursday\", \"Friday\"]\n",
    "# Add your sort function here\n",
    "print(weekdays)"
   ]
  },
  {
   "cell_type": "markdown",
   "id": "da31f80a",
   "metadata": {},
   "source": [
    "t) The list `weekdays` is not sorted in the way you would expect. This is because the sort function is case sensitive. To sort it correctly, you can use the `key` parameter of the sort function. Use it like this:\n",
    "```python\n",
    "names = [\"Max\", \"anna\", \"Erik\"]\n",
    "names.sort(key=str.lower)\n",
    "print(names)  # Prints [\"anna\", \"Erik\", \"Max\"]\n",
    "```\n",
    "Sort the weekdays list again and print the result."
   ]
  },
  {
   "cell_type": "code",
   "execution_count": null,
   "id": "e64873b9",
   "metadata": {},
   "outputs": [],
   "source": [
    "weekdays = [\"Monday\", \"tuesday\", \"Wednesday\", \"thursday\", \"Friday\"]"
   ]
  },
  {
   "cell_type": "markdown",
   "id": "ebcf50f5-5ab9-40e4-b6b1-d53905b80121",
   "metadata": {},
   "source": [
    "### Tuples\n",
    "\n",
    "Tuples are almost identical to lists, but written with paratheses instead of square brackets and they are *immutable*. So you can't modify, append and remove their values. Good to use, if the values should exactly stay as they are.\n",
    "A tuple looks like this:\n",
    "\n",
    "```python\n",
    "fruits = (\"apple\", \"banana\", \"cherry\")\n",
    "```\n",
    "\n",
    "a) Create a tuple with the items of animals. Then try to change the item with index 1 to \"dog\". Does it work?"
   ]
  },
  {
   "cell_type": "code",
   "execution_count": null,
   "id": "d4fff1dd-6c28-43bc-b839-f0bf9fb7c20f",
   "metadata": {},
   "outputs": [],
   "source": [
    "# Add your tuple here:\n",
    "\n",
    "# Change the second element to \"dog\":"
   ]
  },
  {
   "cell_type": "markdown",
   "id": "ac85cfa9-a971-42a5-a5e9-ab77008989d7",
   "metadata": {},
   "source": [
    "## Dictionaries\n",
    "\n",
    "Dictionaries are kind of an advanced list. Dictionaries are always written as key-value pairs in curly brackets, like `{\"location\": \"Bielefeld\"}`. In addition to lists, individual elements can be accessed directly via their key: `workshop = {\"location\": \"Bielefeld\", \"weather\":\"good\", \"topic\": \"python\"}`, `print(workshop[\"topic\"])` would return \"python\". Dictionaries are mutable, but most of the functions for lists does not work for dictionaries. They are more likely to be used to store larger nested data volumes and therefore have a few functions of their own.\n",
    "\n",
    "a) \n",
    "- Create a dictionary. \n",
    "- Store it in the variable myDay. \n",
    "- It should have the **keys** \"weekday\", \"weather\" and \"plans\".\n",
    "- The keys should each have the **values** \"monday\", \"good\" and \"workshop\"\n",
    "- Now print value of \"weather\"."
   ]
  },
  {
   "cell_type": "code",
   "execution_count": null,
   "id": "2e31e822-aaac-4b2a-9d44-63c9be9d545f",
   "metadata": {},
   "outputs": [],
   "source": []
  },
  {
   "cell_type": "markdown",
   "id": "f39bcf5d-7576-4957-ad6c-5d9a338b0288",
   "metadata": {},
   "source": [
    "b) To access the keys, use the .keys()-function. \n",
    "You can use it like this:\n",
    "```python\n",
    "workshop = {\"location\": \"Bielefeld\", \"weather\":\"good\", \"topic\": \"python\"}\n",
    "print(workshop.keys())\n",
    "```\n",
    "\n",
    "Try it with your myDay-Dictionary."
   ]
  },
  {
   "cell_type": "code",
   "execution_count": null,
   "id": "cefff917-8264-4545-907f-1fcb75dc5e70",
   "metadata": {},
   "outputs": [],
   "source": []
  },
  {
   "cell_type": "markdown",
   "id": "faf91471-8f12-4636-ae54-e57cde998610",
   "metadata": {},
   "source": [
    "c) You can also access the values with the .values()-function. The usage is similar to the .keys()-function.\n",
    "Try it with your myDay-Dictionary."
   ]
  },
  {
   "cell_type": "code",
   "execution_count": null,
   "id": "cf73c9c3-7a4a-413c-87d7-d69b7eddef86",
   "metadata": {},
   "outputs": [],
   "source": []
  },
  {
   "cell_type": "markdown",
   "id": "9fd2422b-2c35-4ec1-a038-81e6fb9c30d2",
   "metadata": {},
   "source": [
    "d) You can also access both keys and values at the same time with the .items()-function. The usage is similar to the .keys()-function. It returns a list of tuples, where each tuple contains a key-value pair. Try it with your myDay-Dictionary."
   ]
  },
  {
   "cell_type": "code",
   "execution_count": null,
   "id": "046175b2-6bfa-4d67-9b75-50df45e9dbf2",
   "metadata": {},
   "outputs": [],
   "source": []
  },
  {
   "cell_type": "markdown",
   "id": "b6f66a39-9acc-42b1-a3f5-eb6e733ea21e",
   "metadata": {},
   "source": [
    "e) To check, if a key or value exist in a dictionary, you can use the \"in\" keyword. \n",
    "\n",
    "Use it like this:\n",
    "\n",
    "```python\n",
    "workshop = {\"location\": \"Bielefeld\", \"weather\":\"good\", \"topic\": \"python\"}\n",
    "print(\"weather\" in workshop.keys()) # returns True\n",
    "print(\"date\" in workshop.keys()) # returns False\n",
    "```\n",
    "\n",
    "Try it with your myDay-Dictionary:\n",
    "- Check if \"weather\" is a **key** in myDay\n",
    "- Check if \"rain\" is a **value** in myDay"
   ]
  },
  {
   "cell_type": "code",
   "execution_count": null,
   "id": "ea9cc12c-6702-49f0-8157-8402731148c4",
   "metadata": {},
   "outputs": [],
   "source": []
  }
 ],
 "metadata": {
  "kernelspec": {
   "display_name": ".venv",
   "language": "python",
   "name": "python3"
  },
  "language_info": {
   "codemirror_mode": {
    "name": "ipython",
    "version": 3
   },
   "file_extension": ".py",
   "mimetype": "text/x-python",
   "name": "python",
   "nbconvert_exporter": "python",
   "pygments_lexer": "ipython3",
   "version": "3.10.12"
  }
 },
 "nbformat": 4,
 "nbformat_minor": 5
}
