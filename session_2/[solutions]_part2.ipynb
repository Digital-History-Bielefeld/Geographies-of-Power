{
 "cells": [
  {
   "cell_type": "markdown",
   "metadata": {},
   "source": [
    "# Python Basics II - Part 2"
   ]
  },
  {
   "cell_type": "markdown",
   "metadata": {},
   "source": [
    "## Functions"
   ]
  },
  {
   "cell_type": "markdown",
   "metadata": {},
   "source": [
    "Often you will want to reuse a piece of code multiple times. Functions are a way to do this. A function is a block of code that only runs when it is called. You can pass data, known as arguments or parameters, into a function. A function can return data as a result."
   ]
  },
  {
   "cell_type": "markdown",
   "metadata": {},
   "source": [
    "a) You have this code:\n",
    "  \n",
    "```python\n",
    "name = 'apple'\n",
    "price = 10\n",
    "quantity = 5\n",
    "total = price * quantity\n",
    "\n",
    "print(f'The total price of {quantity} {name}s is {total}')\n",
    "```\n",
    "\n",
    "Now you want to calculate also the total price of 3 oranges (with a price of 7) and 7 bananas (with a price of 5).\n",
    "Write the code below (without using a function).\n"
   ]
  },
  {
   "cell_type": "code",
   "execution_count": 1,
   "metadata": {},
   "outputs": [
    {
     "name": "stdout",
     "output_type": "stream",
     "text": [
      "The total price of 3 oranges is 21\n",
      "The total price of 7 bananas is 35\n"
     ]
    }
   ],
   "source": [
    "name = 'orange'\n",
    "price = 7\n",
    "quantity = 3\n",
    "total = price * quantity\n",
    "\n",
    "print(f'The total price of {quantity} {name}s is {total}')\n",
    "\n",
    "name = 'banana'\n",
    "price = 5\n",
    "quantity = 7\n",
    "total = price * quantity\n",
    "\n",
    "print(f'The total price of {quantity} {name}s is {total}')"
   ]
  },
  {
   "cell_type": "markdown",
   "metadata": {},
   "source": [
    "b) You can see that the code is repetitive and annoying to write. For this reason, we can use functions. So let's learn how to create a function.\n",
    "\n",
    "A function in python looks like this:\n",
    "\n",
    "```python\n",
    "def my_function():\n",
    "  name = \"Alice\"\n",
    "  print(f\"Hello {name}\")\n",
    "```\n",
    "\n",
    "b) First, define a function which is called \"greeting\" that prints \"Hello, welcome to the Python course!\". It takes nothing as an argument."
   ]
  },
  {
   "cell_type": "code",
   "execution_count": 2,
   "metadata": {},
   "outputs": [
    {
     "name": "stdout",
     "output_type": "stream",
     "text": [
      "Hello, welcome to the Python course!\n"
     ]
    }
   ],
   "source": [
    "def greeting():\n",
    "  print(\"Hello, welcome to the Python course!\")\n",
    "\n",
    "greeting()"
   ]
  },
  {
   "cell_type": "markdown",
   "metadata": {},
   "source": [
    "c) Now you don't want to print it but return it. Change the function so that it returns the string instead of printing it. After that, print the result of the function: `print(function_name())`."
   ]
  },
  {
   "cell_type": "code",
   "execution_count": 3,
   "metadata": {},
   "outputs": [
    {
     "name": "stdout",
     "output_type": "stream",
     "text": [
      "Hello, welcome to the Python course!\n"
     ]
    }
   ],
   "source": [
    "def greeting():\n",
    "  return \"Hello, welcome to the Python course!\"\n",
    "\n",
    "print(greeting())"
   ]
  },
  {
   "cell_type": "markdown",
   "metadata": {},
   "source": [
    "d) Now you want to pass the name of a person to the function and print \"Hello, welcome to the Python course, {name}!\". Change the function so that it takes a name as an argument and returns the string. After that, print the result of the function with the name \"Alice\"."
   ]
  },
  {
   "cell_type": "code",
   "execution_count": 4,
   "metadata": {},
   "outputs": [
    {
     "name": "stdout",
     "output_type": "stream",
     "text": [
      "Hello, welcome to the Python course, Alice!\n"
     ]
    }
   ],
   "source": [
    "def greeting(name):\n",
    "  return f\"Hello, welcome to the Python course, {name}!\"\n",
    "\n",
    "print(greeting(\"Alice\"))"
   ]
  },
  {
   "cell_type": "markdown",
   "metadata": {},
   "source": [
    "e) Now you want to pass the name of a person and the course name to the function and print \"Hello, welcome to the {course} course, {name}!\". Change the function so that it takes two arguments and returns the string. After that, print the result of the function with the name \"Alice\" and the course name \"Python\"."
   ]
  },
  {
   "cell_type": "code",
   "execution_count": 5,
   "metadata": {},
   "outputs": [
    {
     "name": "stdout",
     "output_type": "stream",
     "text": [
      "Hello, welcome to the Python course, Alice!\n"
     ]
    }
   ],
   "source": [
    "def greeting(name, course):\n",
    "  return f\"Hello, welcome to the {course} course, {name}!\"\n",
    "\n",
    "print(greeting(\"Alice\", \"Python\"))"
   ]
  },
  {
   "cell_type": "markdown",
   "metadata": {},
   "source": [
    "f) Maybe you want to add some more content and logic to your function. So you want to pass the name and the course. But if the course equals \"Python\", it should say “Hello, welcome to the very fun {course} course, {name}!”. Otherwise, it should only output \"Hello, welcome to the {course} course, {name}!\".\n",
    "Print the result of the function with the name \"Alice\" and the course name \"Python\" and with the name \"Bob\" and the course name \"Java\"."
   ]
  },
  {
   "cell_type": "code",
   "execution_count": 6,
   "metadata": {},
   "outputs": [
    {
     "name": "stdout",
     "output_type": "stream",
     "text": [
      "Hello, welcome to the very fun Python course, Alice!\n",
      "Hello, welcome to the Java course, Bob!\n"
     ]
    }
   ],
   "source": [
    "def greeting(name, course):\n",
    "  if course == \"Python\":\n",
    "    return f\"Hello, welcome to the very fun {course} course, {name}!\"\n",
    "  else:\n",
    "    return f\"Hello, welcome to the {course} course, {name}!\"\n",
    "\n",
    "print(greeting(\"Alice\", \"Python\"))\n",
    "print(greeting(\"Bob\", \"Java\"))"
   ]
  },
  {
   "cell_type": "markdown",
   "metadata": {},
   "source": [
    "g) You can also pass default values to a function. This is helpful if it's not necessary to pass all arguments or to make it optional. Create a function called \"greeting\" that takes a name and a course as arguments. The course should have the default value \"Python\". The function should return \"Hello, welcome to the {course} course, {name}!\".\n",
    "Print the result of the function with the name \"Alice\" and the course name \"R\" and with the name \"Bob\"."
   ]
  },
  {
   "cell_type": "code",
   "execution_count": 7,
   "metadata": {},
   "outputs": [
    {
     "name": "stdout",
     "output_type": "stream",
     "text": [
      "Hello, welcome to the Python course, Bob!\n"
     ]
    }
   ],
   "source": [
    "def greeting(name, course=\"Python\"):\n",
    "  return f\"Hello, welcome to the {course} course, {name}!\"\n",
    "\n",
    "print(greeting(\"Bob\"))"
   ]
  },
  {
   "cell_type": "markdown",
   "metadata": {},
   "source": [
    "h) You can pass every type of data to a function. We want to add a list of names to the function. The function should return \"Hello, welcome to the Python course, {name1}, {name2}, {name3}!\".\n",
    "For this define a function called \"greeting\" that takes a list of names as an argument. Iterate over the list and add every name to the string. Then return the string.\n",
    "Print the result of the function with the list [\"Alice\", \"Bob\", \"Charlie\"]."
   ]
  },
  {
   "cell_type": "code",
   "execution_count": 8,
   "metadata": {},
   "outputs": [
    {
     "name": "stdout",
     "output_type": "stream",
     "text": [
      "Hello, welcome to the Python course, Alice, Bob, Charlie!\n"
     ]
    }
   ],
   "source": [
    "def greeting(names):\n",
    "  string = \"Hello, welcome to the Python course\"\n",
    "  for name in names:\n",
    "    string += \", \" + name\n",
    "  return string + \"!\"\n",
    "\n",
    "print(greeting([\"Alice\", \"Bob\", \"Charlie\"]))"
   ]
  },
  {
   "cell_type": "markdown",
   "metadata": {},
   "source": [
    "i) Now we can simplify the code from the beginning! Create a function that receives a name, a price and a quantity as arguments. The result of price * quantity should be calculated and printed in the sentence “The total price of {quantity} {name}s is {total}”.\n",
    "Then call the function with strawberries, price 15, quantity 4 and grapes, price 3, quantity 20."
   ]
  },
  {
   "cell_type": "code",
   "execution_count": 9,
   "metadata": {},
   "outputs": [
    {
     "name": "stdout",
     "output_type": "stream",
     "text": [
      "The total price of 4 strawberriess is 60\n",
      "The total price of 20 grapess is 60\n"
     ]
    }
   ],
   "source": [
    "def total_price(name, price, quantity):\n",
    "  total = price * quantity\n",
    "  print(f'The total price of {quantity} {name}s is {total}')\n",
    "\n",
    "total_price('strawberries', 15, 4)\n",
    "total_price('grapes', 3, 20)"
   ]
  }
 ],
 "metadata": {
  "kernelspec": {
   "display_name": ".venv",
   "language": "python",
   "name": "python3"
  },
  "language_info": {
   "codemirror_mode": {
    "name": "ipython",
    "version": 3
   },
   "file_extension": ".py",
   "mimetype": "text/x-python",
   "name": "python",
   "nbconvert_exporter": "python",
   "pygments_lexer": "ipython3",
   "version": "3.10.12"
  }
 },
 "nbformat": 4,
 "nbformat_minor": 2
}
