{
 "cells": [
  {
   "cell_type": "markdown",
   "id": "ff3786a6",
   "metadata": {},
   "source": [
    "# Continue and Break in while-loops"
   ]
  },
  {
   "cell_type": "markdown",
   "id": "5e0b1837-131b-4fee-babe-29e5b034f74a",
   "metadata": {},
   "source": [
    "You can use the keywords `continue` and `break` to change the flow of the loop.\n",
    "\n",
    "a) Write another while loop. If you use `while True:` it is basically a never ending while loop, because it is everytime `True`. So write `While True:`. With the built-in function `input()` you can ask for an input into the terminal. Add \"Please type in your name\" to the input query as an argument. Store `input()` in the variable `name`.\n",
    "If `name` is assigned \"your name\", **break** the loop. To show, that it has ended, you have a print statement under the while loop (**not inside**). Replace the comments with your code."
   ]
  },
  {
   "cell_type": "code",
   "execution_count": null,
   "id": "bcaa0cd1-c560-44c4-900a-2e672217d7e6",
   "metadata": {},
   "outputs": [],
   "source": [
    "while True:\n",
    "    # your input() variable\n",
    "    if name == \"your name\":\n",
    "        # your break statement\n",
    "print(\"Thank you!\")"
   ]
  },
  {
   "cell_type": "markdown",
   "id": "d49dc9f4-c679-4cf5-a8fa-02c6b85fa456",
   "metadata": {},
   "source": [
    "l) Now change your code block from below and add the `continue`-keyword. `continue` behaves like the end of a loop: As soon as the keyword is reached, the loop jumps back to the beginning. \n",
    "Replace `break` with `continue` in the code block and reverse the loop accordingly: as long as name is **not** \"your name\", continue. Add a `break` keyword **after** this if-condition. The while loop can only be terminated via `break` when the if condition block is exited."
   ]
  },
  {
   "cell_type": "code",
   "execution_count": null,
   "id": "48ee7ee2-51f4-42f5-973c-16432a9fa4ec",
   "metadata": {},
   "outputs": [],
   "source": [
    "while True:\n",
    "\tname = input(\"Please type your name\")\n",
    "\tif name == \"your name\": # Change this operator!\n",
    "\t\tbreak # Change this keyword!\n",
    "\t# your break statement\n",
    "print(\"Thank you!\")"
   ]
  }
 ],
 "metadata": {
  "kernelspec": {
   "display_name": "Python 3 (ipykernel)",
   "language": "python",
   "name": "python3"
  },
  "language_info": {
   "codemirror_mode": {
    "name": "ipython",
    "version": 3
   },
   "file_extension": ".py",
   "mimetype": "text/x-python",
   "name": "python",
   "nbconvert_exporter": "python",
   "pygments_lexer": "ipython3",
   "version": "3.10.12"
  }
 },
 "nbformat": 4,
 "nbformat_minor": 5
}
