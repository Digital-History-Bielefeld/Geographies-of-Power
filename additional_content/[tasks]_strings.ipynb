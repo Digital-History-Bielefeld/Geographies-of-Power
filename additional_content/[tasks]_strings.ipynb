{
 "cells": [
  {
   "cell_type": "markdown",
   "id": "789e21a4",
   "metadata": {},
   "source": [
    "# Additonal String methods"
   ]
  },
  {
   "cell_type": "markdown",
   "id": "2a8e4fe6",
   "metadata": {},
   "source": [
    "a) Sometimes you have a string with special characters in it. If you want to print the string 'My dog's best friend is a cat', \n",
    "you have a problem, because you can't use one single quote inside of single quotes. To escape this, you can use a backslash (`\\`) in front of the character you want to escape. This looks like this `'She\\'s a cat'`.\n",
    "Try it with this example string! Remove the comment after adding the backslash."
   ]
  },
  {
   "cell_type": "code",
   "execution_count": null,
   "id": "72a70b66",
   "metadata": {},
   "outputs": [],
   "source": [
    "# example_string = 'My dog's best friend is a cat'\n",
    "print(example_string)"
   ]
  },
  {
   "cell_type": "markdown",
   "id": "b49732fe",
   "metadata": {},
   "source": [
    "b) For my book title I want to capitalize the first letter of every word. Use the `.title()` method. The syntax is similar to the previous example."
   ]
  },
  {
   "cell_type": "code",
   "execution_count": null,
   "id": "3f4a00e4",
   "metadata": {},
   "outputs": [],
   "source": [
    "book_title = \"i am a book title\"\n",
    "book_title = # Your method here\n",
    "print(book_title)"
   ]
  },
  {
   "cell_type": "markdown",
   "id": "f90f19c5",
   "metadata": {},
   "source": [
    "c) Sometimes you want to check if a string starts or ends with specific characters before you work with this string. \n",
    "For this, there is the built-in function .startswith('string you ask for') or .endswith('string you ask for'). \n",
    "Is our string starting with \"Hello\"? Is it ending with \"!\"? "
   ]
  },
  {
   "cell_type": "code",
   "execution_count": null,
   "id": "12de2a91",
   "metadata": {},
   "outputs": [],
   "source": [
    "greeting = \"Hello there\"\n",
    "# Your print statements here"
   ]
  }
 ],
 "metadata": {
  "kernelspec": {
   "display_name": "Python 3 (ipykernel)",
   "language": "python",
   "name": "python3"
  },
  "language_info": {
   "codemirror_mode": {
    "name": "ipython",
    "version": 3
   },
   "file_extension": ".py",
   "mimetype": "text/x-python",
   "name": "python",
   "nbconvert_exporter": "python",
   "pygments_lexer": "ipython3",
   "version": "3.10.12"
  }
 },
 "nbformat": 4,
 "nbformat_minor": 5
}
