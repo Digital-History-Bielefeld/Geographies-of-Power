{
 "cells": [
  {
   "cell_type": "markdown",
   "metadata": {},
   "source": [
    "# Classes"
   ]
  },
  {
   "cell_type": "markdown",
   "metadata": {},
   "source": [
    "In Python, a class is a blueprint for creating objects that share common attributes and behaviors. It allows you to define a set of properties (called attributes) and functions (called methods) that the created objects will possess. Classes promote reusability and organization in code by enabling you to model real-world entities with their characteristics and actions. To define a class, the class keyword is used, followed by the class name and a colon. Inside, an __init__ method (also called a constructor) typically initializes object attributes, while other methods define the object's behavior. By creating instances of a class, you can easily create multiple objects that share the same structure but hold unique data.\n",
    "\n",
    "A class in python looks like this:\n",
    "\n",
    "```python\n",
    "class Product:\n",
    "  def __init__(self, name, price, quantity):\n",
    "    self.name = name\n",
    "    self.price = price\n",
    "    self.quantity = quantity\n",
    "```\n",
    "\n",
    "You can then add methods to the class:\n",
    "\n",
    "```python\n",
    "\n",
    "class Product:\n",
    "  def __init__(self, name, price, quantity):\n",
    "    self.name = name\n",
    "    self.price = price\n",
    "    self.quantity = quantity\n",
    "\n",
    "  def total(self):\n",
    "    return self.price * self.quantity\n",
    "```\n",
    "\n",
    "If you want to access the attributes of the class, you can create an object of the class:\n",
    "\n",
    "```python\n",
    "product = Product(\"apple\", 10, 5)\n",
    "print(product.name) # apple\n",
    "print(product.price) # 10\n",
    "print(product.quantity) # 5\n",
    "print(product.total()) # 50\n",
    "```\n",
    "\n",
    "-----------------\n",
    "**The Self Parameter**\n",
    "In Python classes, self is a reference to the instance of the class itself. It’s used in methods to access the instance’s attributes and other methods. When you define a method in a class, the first parameter must be self (although it could be named anything, self is the convention). This allows each instance of the class to keep its own separate data.\n",
    "For example, if you have a class Dog and define a method like bark(self), using self lets that method access the specific dog's data (like its name or age) when the method is called on that instance. Without self, the method wouldn’t know which instance’s data to use.\n",
    "\n",
    "-------------------\n",
    "\n",
    "\n",
    "a) Create a class called Person. The class should have an __init__ method that takes a name and an age as arguments and sets them as attributes. Then create an object of the class with the name \"Alice\" and the age 25. Print the name and the age of the object."
   ]
  },
  {
   "cell_type": "code",
   "execution_count": 1,
   "metadata": {},
   "outputs": [
    {
     "name": "stdout",
     "output_type": "stream",
     "text": [
      "Alice\n",
      "25\n"
     ]
    }
   ],
   "source": [
    "class Person:\n",
    "  def __init__(self, name, age):\n",
    "    self.name = name\n",
    "    self.age = age\n",
    "\n",
    "person1 = Person(\"Alice\", 25)\n",
    "print(person1.name)\n",
    "print(person1.age)"
   ]
  },
  {
   "cell_type": "markdown",
   "metadata": {},
   "source": [
    "b) Now you want to add a method to the class that returns the name and the age of the person. Add a method called \"person_info\" that returns the string \"{self.name} is {self.age} years old.\".\n",
    "Then call the method on the object and print the result."
   ]
  },
  {
   "cell_type": "code",
   "execution_count": 2,
   "metadata": {},
   "outputs": [
    {
     "name": "stdout",
     "output_type": "stream",
     "text": [
      "Alice is 25 years old\n"
     ]
    }
   ],
   "source": [
    "class Person:\n",
    "  def __init__(self, name, age):\n",
    "    self.name = name\n",
    "    self.age = age\n",
    "\n",
    "  def person_info(self):\n",
    "    return f\"{self.name} is {self.age} years old\"\n",
    "  \n",
    "person1 = Person(\"Alice\", 25)\n",
    "print(person1.person_info())"
   ]
  },
  {
   "cell_type": "markdown",
   "metadata": {},
   "source": [
    "c) Now you want to add a method to the class that increases the age of the person by 1. Add a method called \"birthday\" that increases the age by 1.\n",
    "Then follow the steps:\n",
    "- Create an object of the class with the name \"Alice\" and the age 25.\n",
    "- Print the age of the object\n",
    "- Call the method \"birthday\" on the object\n",
    "- Print the age of the object"
   ]
  },
  {
   "cell_type": "code",
   "execution_count": 3,
   "metadata": {},
   "outputs": [
    {
     "name": "stdout",
     "output_type": "stream",
     "text": [
      "25\n",
      "26\n"
     ]
    }
   ],
   "source": [
    "class Person:\n",
    "  def __init__(self, name, age):\n",
    "    self.name = name\n",
    "    self.age = age\n",
    "\n",
    "  def person_info(self):\n",
    "    return f\"{self.name} is {self.age} years old\"\n",
    "  \n",
    "  def birthday(self):\n",
    "    self.age += 1\n",
    "\n",
    "person1 = Person(\"Alice\", 25)\n",
    "print(person1.age)\n",
    "person1.birthday()\n",
    "print(person1.age)"
   ]
  },
  {
   "cell_type": "markdown",
   "metadata": {},
   "source": [
    "e) Now you want to add a method to the class that changes the name of the person. Add a method called \"change_name\" that takes a new name as an argument and changes the name of the person.\n",
    "Then follow the steps:\n",
    "- Create an object of the class with the name \"Alice\" and the age 25.\n",
    "- Print the name of the object\n",
    "- Call the method \"change_name\" on the object with the new name \"Bob\"\n",
    "- Print the name of the object"
   ]
  },
  {
   "cell_type": "code",
   "execution_count": 4,
   "metadata": {},
   "outputs": [
    {
     "name": "stdout",
     "output_type": "stream",
     "text": [
      "Alice\n",
      "Bob\n"
     ]
    }
   ],
   "source": [
    "class Person:\n",
    "  def __init__(self, name, age):\n",
    "    self.name = name\n",
    "    self.age = age\n",
    "\n",
    "  def person_info(self):\n",
    "    return f\"{self.name} is {self.age} years old\"\n",
    "  \n",
    "  def birthday(self):\n",
    "    self.age += 1\n",
    "\n",
    "  def change_name(self, new_name):\n",
    "    self.name = new_name\n",
    "\n",
    "person1 = Person(\"Alice\", 25)\n",
    "print(person1.name)\n",
    "person1.change_name(\"Bob\")\n",
    "print(person1.name)"
   ]
  },
  {
   "cell_type": "markdown",
   "metadata": {},
   "source": [
    "So you see, classes are a way to bundle data and functionality together. They are a blueprint for a special \"topic\". If you work with a lot of data, you can create a class for every data type. For example, if you work with a lot of products, you can create a class Product. If you work with a lot of persons, you can create a class Person. If you work with a lot of cars, you can create a class Car. And so on. Then you can bundle all the data and functionality of a product in the class Product. And you can create as many objects of the class as you want. Each object is a special instance of the class."
   ]
  }
 ],
 "metadata": {
  "kernelspec": {
   "display_name": ".venv",
   "language": "python",
   "name": "python3"
  },
  "language_info": {
   "codemirror_mode": {
    "name": "ipython",
    "version": 3
   },
   "file_extension": ".py",
   "mimetype": "text/x-python",
   "name": "python",
   "nbconvert_exporter": "python",
   "pygments_lexer": "ipython3",
   "version": "3.10.12"
  }
 },
 "nbformat": 4,
 "nbformat_minor": 2
}
