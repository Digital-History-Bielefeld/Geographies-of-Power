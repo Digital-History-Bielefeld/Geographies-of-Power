{
 "cells": [
  {
   "cell_type": "markdown",
   "id": "1c8ef376-30d2-404a-bda7-41cb798a9f46",
   "metadata": {},
   "source": [
    "# Python Basics I - Part 1"
   ]
  },
  {
   "cell_type": "markdown",
   "id": "e0aa30bb-1c6a-4ff0-9ac4-45a892623b83",
   "metadata": {},
   "source": [
    "The basics of Python are not difficult to understand, but they should be practiced so that their use becomes second nature.\n",
    "If you get an error message, don't worry. This is normal and happens to everyone. The error message is there to help you understand what went wrong. So read it carefully and try to understand what it is telling you.\n",
    "\n",
    "The `print()` command can be used to output things. Try printing out the sentence \"History is cool\". To do this, simply enter your code in the free field below. You can then execute the code using the run symbol in the taskbar at the top. "
   ]
  },
  {
   "cell_type": "code",
   "execution_count": null,
   "id": "822597e1-f0d0-4bef-bca3-95f86cabb73a",
   "metadata": {},
   "outputs": [],
   "source": [
    "print() # Add your string inside the parentheses"
   ]
  },
  {
   "cell_type": "markdown",
   "id": "24782ccd-53f3-4a78-9d0b-0216cf6fde20",
   "metadata": {},
   "source": [
    "You should now see the sentence executed. However, you usually work with variables. These store data in themselves and serve as small boxes for them. You can store data in the box and retrieve it later or simply overwrite the data. \n",
    "\n",
    "\n",
    "This is how you save a variable:"
   ]
  },
  {
   "cell_type": "code",
   "execution_count": 2,
   "id": "dda26638-a071-4106-a4af-bd9b5c7d7cf9",
   "metadata": {},
   "outputs": [],
   "source": [
    "my_number = 5\n",
    "name = \"Sara\""
   ]
  },
  {
   "cell_type": "markdown",
   "id": "f32c8d7c-19ba-456d-9784-5895e4eaa0b7",
   "metadata": {},
   "source": [
    "Overwrite the above variables with new values. Print them!"
   ]
  },
  {
   "cell_type": "code",
   "execution_count": null,
   "id": "d7221b54-c118-40ac-9aca-e5a432e3b8eb",
   "metadata": {},
   "outputs": [],
   "source": [
    "my_number = # Add your value here\n",
    "name = # Add your value here\n",
    "print(my_number)\n",
    "print(name)"
   ]
  },
  {
   "cell_type": "markdown",
   "id": "1dafc6e6-c1ca-4259-ba0b-f38ae5182fbb",
   "metadata": {},
   "source": [
    "Now that you know the absolute basics, let's get straight to the exercises!"
   ]
  },
  {
   "cell_type": "markdown",
   "id": "7a67ec2f-0abb-40cf-b43b-a488c9ae8051",
   "metadata": {},
   "source": [
    "## Data Types"
   ]
  },
  {
   "cell_type": "markdown",
   "id": "e8c088b2-b99e-4758-80b6-053fb5a4e9e0",
   "metadata": {},
   "source": [
    "Data Types are a category of a value, every value belongs to exactly one data type\n",
    "\n",
    "**Simple data types are:**\n",
    "- ints e.g. `1`\n",
    "- floats e.g. `1.3`\n",
    "- strings e.g. `'This is a string'`\n",
    "- boolean e.g. `True` or `False`\n",
    "\n",
    " ### Operators Cheat Sheet\n",
    "\n",
    "| Operator | Operation                         | Example   | Result |\n",
    "| -------- | --------------------------------- | --------- | ------ |\n",
    "| +        | Addition                          | `2 + 2`   | `4`    |\n",
    "| -        | Substraction                      | `5 - 2`   | `3`    |\n",
    "| *        | Multiplication                    | `5 * 2`   | `10`   |\n",
    "| /        | Division                          | `14 / 4`  | `3.5`  |\n",
    "| //       | Integer division/floored quotient | `14 // 4` | `3`    |\n",
    "| %        | Modulus                           | `25 % 7`  | `4`    |\n",
    "| **       | Exponent                          | `2 ** 4`  | `16`   |\n"
   ]
  },
  {
   "cell_type": "markdown",
   "id": "a2cfd14d-6f73-49ff-82b4-04c3433c88fd",
   "metadata": {},
   "source": [
    "a) What is the result of 23.987 multiplicated by 7. Which data type is it? Think about it and then print the type of the result with the `type()` function."
   ]
  },
  {
   "cell_type": "code",
   "execution_count": null,
   "id": "330ddea1-8f08-4b8f-ae65-037335d897e5",
   "metadata": {},
   "outputs": [],
   "source": [
    "result = # Add your expression here\n",
    "print(result)\n",
    "type(result)"
   ]
  },
  {
   "cell_type": "markdown",
   "id": "abef4126-05de-4290-a1fb-ff2d2b0be8a8",
   "metadata": {},
   "source": [
    "b) You have the following python code. What will be the output? Try to think about it before you run the code.\n"
   ]
  },
  {
   "cell_type": "code",
   "execution_count": null,
   "id": "f374bfa0",
   "metadata": {},
   "outputs": [],
   "source": [
    "food = \"pizza\"\n",
    "print(food)\n",
    "print(\"food\")"
   ]
  },
  {
   "cell_type": "markdown",
   "id": "29b55c7c-6d50-4d55-909b-dd3acd9a09fd",
   "metadata": {},
   "source": [
    "What is the difference between `food` and `\"food\"`? Type your answer in the free field below."
   ]
  },
  {
   "cell_type": "markdown",
   "id": "f103a85e",
   "metadata": {},
   "source": []
  },
  {
   "cell_type": "markdown",
   "id": "92e04d63-d6e3-404d-a95e-a05c40fedefb",
   "metadata": {},
   "source": [
    "c) You can add strings together with using the `+` operator. Try it out and print \"Python\" and \"Python\" together."
   ]
  },
  {
   "cell_type": "code",
   "execution_count": null,
   "id": "98e390d6-218a-48fd-8bee-9b3591db252a",
   "metadata": {},
   "outputs": [],
   "source": [
    "print() # Add your expression inside the print function"
   ]
  },
  {
   "cell_type": "markdown",
   "id": "5c7f0514-7922-459b-9f1e-56a337a8161a",
   "metadata": {},
   "source": [
    "d) You can also multiply strings with a number. Try it out and print \"Python\" three times."
   ]
  },
  {
   "cell_type": "code",
   "execution_count": null,
   "id": "3169fb03-aab5-40a0-95a5-573f648513bc",
   "metadata": {},
   "outputs": [],
   "source": [
    "print() # Add your expression inside the print function"
   ]
  },
  {
   "cell_type": "markdown",
   "id": "fcf5b3fe-59ee-403a-a1d5-28cb184b5b88",
   "metadata": {},
   "source": [
    "## Built-in functions in Python\n",
    "\n",
    "In Python you have many build-in functions which you can use without installing additional modules and tools. These functions can therefore always be used and are functions that are used particularly frequently and across the board. You can find an overview [here](https://docs.python.org/3/library/functions.html).\n",
    "\n",
    "Let's go through the most important ones:\n",
    "a) **print()**: prints the specified message to the console.\n",
    "Use it by providing a string or multiple values separated by commas or with a `+` sign. \n",
    "Try it out with printing \"Hello World!\"."
   ]
  },
  {
   "cell_type": "code",
   "execution_count": null,
   "id": "7527508a",
   "metadata": {},
   "outputs": [],
   "source": []
  },
  {
   "cell_type": "markdown",
   "id": "5b2b7504",
   "metadata": {},
   "source": [
    "Here are some more possibilities:\n",
    "\n",
    "```python\n",
    "print(\"The answer is\", 42)  # Prints the concatenated string \"The answer is 42\"\n",
    "print(\"Python\", \"is\", \"fun\")  # Prints multiple values separated by spaces\n",
    "print(\"One\", \"Two\", \"Three\", sep=\"-\")  # Prints values separated by a custom separator (\"-\")\n",
    "```\n",
    "\n",
    "b) **input()**: reads a line from input and returns it as a string. In the jupyter notebook a dialog will appear on the top of the page where you can enter your input. In a normal python script you can enter your input in the console.\n",
    "You can use it like this:\n",
    "\n",
    "```python\n",
    "your_input = input(\"Where do you live? \")\n",
    "print(\"You live in\", your_input)\n",
    "```\n",
    "\n",
    "Try it out and ask for the user's name. Then print \"Hello \" + the name."
   ]
  },
  {
   "cell_type": "code",
   "execution_count": null,
   "id": "d1a7203f",
   "metadata": {},
   "outputs": [],
   "source": [
    "user_name = # Add your input function here\n",
    "print(\"Hello \" + user_name + \"!\")"
   ]
  },
  {
   "cell_type": "markdown",
   "id": "7cb3d608",
   "metadata": {},
   "source": [
    "c) **len()**: returns the length of an object (e.g., string, list, etc.).\n",
    "You can use it like this:\n",
    "\n",
    "```python\n",
    "print(len(\"Python\"))  # Prints the length of the string \"Python\"\n",
    "```\n",
    "Try it out and print the length of the string \"Python is powerful\"."
   ]
  },
  {
   "cell_type": "code",
   "execution_count": null,
   "id": "a57ed1eb",
   "metadata": {},
   "outputs": [],
   "source": [
    "string_length = # Add your len function here\n",
    "print(string_length)"
   ]
  },
  {
   "cell_type": "markdown",
   "id": "205137fb",
   "metadata": {},
   "source": [
    "Will the following code work? Why or why not? Try to think about it before you run the code."
   ]
  },
  {
   "cell_type": "code",
   "execution_count": null,
   "id": "3f9664e7",
   "metadata": {},
   "outputs": [],
   "source": [
    "print(\"My number is \" + 5)"
   ]
  },
  {
   "cell_type": "markdown",
   "id": "c28229e3",
   "metadata": {},
   "source": [
    "d) **str()**: converts an object into a string. \n",
    "In the example above, the code tried to add a string and an integer. This will not work. But you can convert the integer into a string with the `str()` function.\n",
    "Use it like this:\n",
    "\n",
    "```python\n",
    "number = 42\n",
    "number_str = str(number)\n",
    "```\n",
    "\n",
    "Try it out:\n",
    "- Store any number in the variable `number`\n",
    "- There is a second variable `number_str`. Convert `number` into a string with `str()` and store it in `number_str`\n",
    "- Print your result!"
   ]
  },
  {
   "cell_type": "code",
   "execution_count": null,
   "id": "0318c1b4",
   "metadata": {},
   "outputs": [],
   "source": [
    "number = # Add your value here\n",
    "number_str = # Add your str function here\n",
    "print(\"My number is \" + number_str)"
   ]
  },
  {
   "cell_type": "markdown",
   "id": "0130bcb2",
   "metadata": {},
   "source": [
    "e) **int()**: converts a string or a float to an integer.\n",
    "This works the same way as `str()`. Use it like this:\n",
    "\n",
    "```python\n",
    "number_str = \"42\"\n",
    "number = int(number_str)\n",
    "```\n",
    "Try it out:\n",
    "- Store any number in the variable `number_str` as a string\n",
    "- There is a second variable `number`. Convert `number_str` into an integer with `int()` and store it in `number`\n",
    "- Print your result!"
   ]
  },
  {
   "cell_type": "code",
   "execution_count": null,
   "id": "c731418e",
   "metadata": {},
   "outputs": [],
   "source": [
    "number_str = # Add your number as a string here\n",
    "number = # Add your int function here\n",
    "print(number + 5)"
   ]
  },
  {
   "cell_type": "markdown",
   "id": "41f5306a",
   "metadata": {},
   "source": [
    "f) **float()**: converts a string or an integer to a float.\n",
    "This works the same way as `str()` and `int()`. Use it like this:\n",
    "\n",
    "```python\n",
    "number_str = \"42\"\n",
    "number = float(number_str)\n",
    "```\n",
    "Try it out:\n",
    "- Store any number in the variable `number_str` as a string. It can be something like \"42\" or \"42.13\"\n",
    "- There is a second variable `number`. Convert `number_str` into a float with `float()` and store it in `number`\n",
    "- Print your result!"
   ]
  },
  {
   "cell_type": "code",
   "execution_count": null,
   "id": "a3cc6c88",
   "metadata": {},
   "outputs": [],
   "source": [
    "number_str = # Add your number as a string here\n",
    "number = # Add your float function here\n",
    "print(number)"
   ]
  }
 ],
 "metadata": {
  "kernelspec": {
   "display_name": ".venv",
   "language": "python",
   "name": "python3"
  },
  "language_info": {
   "codemirror_mode": {
    "name": "ipython",
    "version": 3
   },
   "file_extension": ".py",
   "mimetype": "text/x-python",
   "name": "python",
   "nbconvert_exporter": "python",
   "pygments_lexer": "ipython3",
   "version": "3.10.12"
  }
 },
 "nbformat": 4,
 "nbformat_minor": 5
}
